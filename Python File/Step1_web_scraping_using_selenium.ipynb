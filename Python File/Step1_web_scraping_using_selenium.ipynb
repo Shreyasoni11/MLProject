{
 "cells": [
  {
   "cell_type": "code",
   "execution_count": 1,
   "id": "2ffe1ae2",
   "metadata": {},
   "outputs": [],
   "source": [
    "import pandas as pd\n",
    "import time\n",
    "from selenium import webdriver\n",
    "from selenium.webdriver import Chrome\n",
    "from selenium.webdriver.common.keys import Keys\n",
    "from selenium.webdriver.common.by import By\n",
    "\n",
    "import pandas as pd\n",
    "import numpy as np"
   ]
  },
  {
   "cell_type": "code",
   "execution_count": null,
   "id": "ed6748e1",
   "metadata": {},
   "outputs": [],
   "source": []
  },
  {
   "cell_type": "code",
   "execution_count": 2,
   "id": "9eeb5fa2",
   "metadata": {},
   "outputs": [],
   "source": [
    "path = r\"C:\\Users\\Dell\\Downloads\\chromedriver_win32 (1)\\chromedriver.exe\""
   ]
  },
  {
   "cell_type": "code",
   "execution_count": 3,
   "id": "8066aa5c",
   "metadata": {},
   "outputs": [],
   "source": [
    "browser = webdriver.Chrome(path)"
   ]
  },
  {
   "cell_type": "code",
   "execution_count": 4,
   "id": "96343480",
   "metadata": {},
   "outputs": [],
   "source": [
    "link = 'https://www.instahyre.com/search-jobs?company_size=0&isLandingPage=true&location=Anywhere+in+India&offset=0&search=true'\n",
    "browser.get(link)"
   ]
  },
  {
   "cell_type": "code",
   "execution_count": 5,
   "id": "58111257",
   "metadata": {},
   "outputs": [],
   "source": [
    "parent = browser.current_window_handle"
   ]
  },
  {
   "cell_type": "code",
   "execution_count": 6,
   "id": "e1a09b31",
   "metadata": {},
   "outputs": [
    {
     "ename": "NoSuchElementException",
     "evalue": "Message: no such element: Unable to locate element: {\"method\":\"xpath\",\"selector\":\"//*[@id=\"job-function-page\"]/div[2]/div/div[1]/div[1]/div[11]/li[12]\"}\n  (Session info: chrome=114.0.5735.110)\n",
     "output_type": "error",
     "traceback": [
      "\u001b[1;31m---------------------------------------------------------------------------\u001b[0m",
      "\u001b[1;31mNoSuchElementException\u001b[0m                    Traceback (most recent call last)",
      "\u001b[1;32m~\\AppData\\Local\\Temp\\ipykernel_13384\\1579364519.py\u001b[0m in \u001b[0;36m<module>\u001b[1;34m\u001b[0m\n\u001b[0;32m     84\u001b[0m         \u001b[0mbrowser\u001b[0m\u001b[1;33m.\u001b[0m\u001b[0mswitch_to\u001b[0m\u001b[1;33m.\u001b[0m\u001b[0mwindow\u001b[0m\u001b[1;33m(\u001b[0m\u001b[0mparent\u001b[0m\u001b[1;33m)\u001b[0m\u001b[1;33m\u001b[0m\u001b[1;33m\u001b[0m\u001b[0m\n\u001b[0;32m     85\u001b[0m \u001b[1;33m\u001b[0m\u001b[0m\n\u001b[1;32m---> 86\u001b[1;33m     \u001b[0mnext_botton\u001b[0m \u001b[1;33m=\u001b[0m \u001b[0mbrowser\u001b[0m\u001b[1;33m.\u001b[0m\u001b[0mfind_element_by_xpath\u001b[0m\u001b[1;33m(\u001b[0m\u001b[1;34m'//*[@id=\"job-function-page\"]/div[2]/div/div[1]/div[1]/div[11]/li[12]'\u001b[0m\u001b[1;33m)\u001b[0m\u001b[1;33m\u001b[0m\u001b[1;33m\u001b[0m\u001b[0m\n\u001b[0m\u001b[0;32m     87\u001b[0m     \u001b[0mnext_botton\u001b[0m\u001b[1;33m.\u001b[0m\u001b[0mclick\u001b[0m\u001b[1;33m(\u001b[0m\u001b[1;33m)\u001b[0m\u001b[1;33m\u001b[0m\u001b[1;33m\u001b[0m\u001b[0m\n\u001b[0;32m     88\u001b[0m     \u001b[0mtime\u001b[0m\u001b[1;33m.\u001b[0m\u001b[0msleep\u001b[0m\u001b[1;33m(\u001b[0m\u001b[1;36m4\u001b[0m\u001b[1;33m)\u001b[0m\u001b[1;33m\u001b[0m\u001b[1;33m\u001b[0m\u001b[0m\n",
      "\u001b[1;32m~\\anaconda3\\lib\\site-packages\\selenium\\webdriver\\remote\\webdriver.py\u001b[0m in \u001b[0;36mfind_element_by_xpath\u001b[1;34m(self, xpath)\u001b[0m\n\u001b[0;32m    392\u001b[0m             \u001b[0melement\u001b[0m \u001b[1;33m=\u001b[0m \u001b[0mdriver\u001b[0m\u001b[1;33m.\u001b[0m\u001b[0mfind_element_by_xpath\u001b[0m\u001b[1;33m(\u001b[0m\u001b[1;34m'//div/td[1]'\u001b[0m\u001b[1;33m)\u001b[0m\u001b[1;33m\u001b[0m\u001b[1;33m\u001b[0m\u001b[0m\n\u001b[0;32m    393\u001b[0m         \"\"\"\n\u001b[1;32m--> 394\u001b[1;33m         \u001b[1;32mreturn\u001b[0m \u001b[0mself\u001b[0m\u001b[1;33m.\u001b[0m\u001b[0mfind_element\u001b[0m\u001b[1;33m(\u001b[0m\u001b[0mby\u001b[0m\u001b[1;33m=\u001b[0m\u001b[0mBy\u001b[0m\u001b[1;33m.\u001b[0m\u001b[0mXPATH\u001b[0m\u001b[1;33m,\u001b[0m \u001b[0mvalue\u001b[0m\u001b[1;33m=\u001b[0m\u001b[0mxpath\u001b[0m\u001b[1;33m)\u001b[0m\u001b[1;33m\u001b[0m\u001b[1;33m\u001b[0m\u001b[0m\n\u001b[0m\u001b[0;32m    395\u001b[0m \u001b[1;33m\u001b[0m\u001b[0m\n\u001b[0;32m    396\u001b[0m     \u001b[1;32mdef\u001b[0m \u001b[0mfind_elements_by_xpath\u001b[0m\u001b[1;33m(\u001b[0m\u001b[0mself\u001b[0m\u001b[1;33m,\u001b[0m \u001b[0mxpath\u001b[0m\u001b[1;33m)\u001b[0m\u001b[1;33m:\u001b[0m\u001b[1;33m\u001b[0m\u001b[1;33m\u001b[0m\u001b[0m\n",
      "\u001b[1;32m~\\anaconda3\\lib\\site-packages\\selenium\\webdriver\\remote\\webdriver.py\u001b[0m in \u001b[0;36mfind_element\u001b[1;34m(self, by, value)\u001b[0m\n\u001b[0;32m    974\u001b[0m                 \u001b[0mby\u001b[0m \u001b[1;33m=\u001b[0m \u001b[0mBy\u001b[0m\u001b[1;33m.\u001b[0m\u001b[0mCSS_SELECTOR\u001b[0m\u001b[1;33m\u001b[0m\u001b[1;33m\u001b[0m\u001b[0m\n\u001b[0;32m    975\u001b[0m                 \u001b[0mvalue\u001b[0m \u001b[1;33m=\u001b[0m \u001b[1;34m'[name=\"%s\"]'\u001b[0m \u001b[1;33m%\u001b[0m \u001b[0mvalue\u001b[0m\u001b[1;33m\u001b[0m\u001b[1;33m\u001b[0m\u001b[0m\n\u001b[1;32m--> 976\u001b[1;33m         return self.execute(Command.FIND_ELEMENT, {\n\u001b[0m\u001b[0;32m    977\u001b[0m             \u001b[1;34m'using'\u001b[0m\u001b[1;33m:\u001b[0m \u001b[0mby\u001b[0m\u001b[1;33m,\u001b[0m\u001b[1;33m\u001b[0m\u001b[1;33m\u001b[0m\u001b[0m\n\u001b[0;32m    978\u001b[0m             'value': value})['value']\n",
      "\u001b[1;32m~\\anaconda3\\lib\\site-packages\\selenium\\webdriver\\remote\\webdriver.py\u001b[0m in \u001b[0;36mexecute\u001b[1;34m(self, driver_command, params)\u001b[0m\n\u001b[0;32m    319\u001b[0m         \u001b[0mresponse\u001b[0m \u001b[1;33m=\u001b[0m \u001b[0mself\u001b[0m\u001b[1;33m.\u001b[0m\u001b[0mcommand_executor\u001b[0m\u001b[1;33m.\u001b[0m\u001b[0mexecute\u001b[0m\u001b[1;33m(\u001b[0m\u001b[0mdriver_command\u001b[0m\u001b[1;33m,\u001b[0m \u001b[0mparams\u001b[0m\u001b[1;33m)\u001b[0m\u001b[1;33m\u001b[0m\u001b[1;33m\u001b[0m\u001b[0m\n\u001b[0;32m    320\u001b[0m         \u001b[1;32mif\u001b[0m \u001b[0mresponse\u001b[0m\u001b[1;33m:\u001b[0m\u001b[1;33m\u001b[0m\u001b[1;33m\u001b[0m\u001b[0m\n\u001b[1;32m--> 321\u001b[1;33m             \u001b[0mself\u001b[0m\u001b[1;33m.\u001b[0m\u001b[0merror_handler\u001b[0m\u001b[1;33m.\u001b[0m\u001b[0mcheck_response\u001b[0m\u001b[1;33m(\u001b[0m\u001b[0mresponse\u001b[0m\u001b[1;33m)\u001b[0m\u001b[1;33m\u001b[0m\u001b[1;33m\u001b[0m\u001b[0m\n\u001b[0m\u001b[0;32m    322\u001b[0m             response['value'] = self._unwrap_value(\n\u001b[0;32m    323\u001b[0m                 response.get('value', None))\n",
      "\u001b[1;32m~\\anaconda3\\lib\\site-packages\\selenium\\webdriver\\remote\\errorhandler.py\u001b[0m in \u001b[0;36mcheck_response\u001b[1;34m(self, response)\u001b[0m\n\u001b[0;32m    240\u001b[0m                 \u001b[0malert_text\u001b[0m \u001b[1;33m=\u001b[0m \u001b[0mvalue\u001b[0m\u001b[1;33m[\u001b[0m\u001b[1;34m'alert'\u001b[0m\u001b[1;33m]\u001b[0m\u001b[1;33m.\u001b[0m\u001b[0mget\u001b[0m\u001b[1;33m(\u001b[0m\u001b[1;34m'text'\u001b[0m\u001b[1;33m)\u001b[0m\u001b[1;33m\u001b[0m\u001b[1;33m\u001b[0m\u001b[0m\n\u001b[0;32m    241\u001b[0m             \u001b[1;32mraise\u001b[0m \u001b[0mexception_class\u001b[0m\u001b[1;33m(\u001b[0m\u001b[0mmessage\u001b[0m\u001b[1;33m,\u001b[0m \u001b[0mscreen\u001b[0m\u001b[1;33m,\u001b[0m \u001b[0mstacktrace\u001b[0m\u001b[1;33m,\u001b[0m \u001b[0malert_text\u001b[0m\u001b[1;33m)\u001b[0m\u001b[1;33m\u001b[0m\u001b[1;33m\u001b[0m\u001b[0m\n\u001b[1;32m--> 242\u001b[1;33m         \u001b[1;32mraise\u001b[0m \u001b[0mexception_class\u001b[0m\u001b[1;33m(\u001b[0m\u001b[0mmessage\u001b[0m\u001b[1;33m,\u001b[0m \u001b[0mscreen\u001b[0m\u001b[1;33m,\u001b[0m \u001b[0mstacktrace\u001b[0m\u001b[1;33m)\u001b[0m\u001b[1;33m\u001b[0m\u001b[1;33m\u001b[0m\u001b[0m\n\u001b[0m\u001b[0;32m    243\u001b[0m \u001b[1;33m\u001b[0m\u001b[0m\n\u001b[0;32m    244\u001b[0m     \u001b[1;32mdef\u001b[0m \u001b[0m_value_or_default\u001b[0m\u001b[1;33m(\u001b[0m\u001b[0mself\u001b[0m\u001b[1;33m,\u001b[0m \u001b[0mobj\u001b[0m\u001b[1;33m,\u001b[0m \u001b[0mkey\u001b[0m\u001b[1;33m,\u001b[0m \u001b[0mdefault\u001b[0m\u001b[1;33m)\u001b[0m\u001b[1;33m:\u001b[0m\u001b[1;33m\u001b[0m\u001b[1;33m\u001b[0m\u001b[0m\n",
      "\u001b[1;31mNoSuchElementException\u001b[0m: Message: no such element: Unable to locate element: {\"method\":\"xpath\",\"selector\":\"//*[@id=\"job-function-page\"]/div[2]/div/div[1]/div[1]/div[11]/li[12]\"}\n  (Session info: chrome=114.0.5735.110)\n"
     ]
    }
   ],
   "source": [
    "Job_list = []\n",
    "\n",
    "for page in range(150):\n",
    "    view_button = browser.find_elements(By.ID, \"interested-btn\")\n",
    "    for i in view_button:\n",
    "        i.click()\n",
    "        time.sleep(3)\n",
    "        browser.switch_to.window(browser.window_handles[-1])\n",
    "\n",
    "        try:\n",
    "            designation = browser.find_element(By.XPATH, \".//h1[@class = 'ng-binding']\").text\n",
    "        except:\n",
    "            designation = ''\n",
    "        try:\n",
    "            company_name = browser.find_element(By.XPATH, \"//*[@id='floating-header']/div[1]/h2\").text\n",
    "        except:\n",
    "            company_name = ''\n",
    "        try:\n",
    "            location = browser.find_element(By.XPATH, \".//*[@id='floating-header']/div[1]/div/span[1]\").text\n",
    "        except:\n",
    "            location = ''\n",
    "        try:\n",
    "            estab_year = browser.find_element(By.XPATH, \"(//div[@class='ng-binding ng-scope'])[1]\").text\n",
    "        except:\n",
    "            estab_year = ''\n",
    "        try:\n",
    "            employees_count =  browser.find_element(By.XPATH, \"(//div[@class='ng-binding ng-scope'])[2]\").text\n",
    "        except:\n",
    "            employees_count = ''\n",
    "        try:\n",
    "            job_description =  browser.find_element(By.XPATH, \".//p[@class='ng-binding']\").text\n",
    "        except:\n",
    "            job_description = ''\n",
    "        try:\n",
    "            skills = browser.find_element(By.XPATH, \"//*[@id='job-skills-description']\").text\n",
    "        except:\n",
    "            skills = ''\n",
    "        try:\n",
    "            hr_name = browser.find_element(By.CLASS_NAME, \"rec-info\").text\n",
    "        except:\n",
    "            hr_name = ''\n",
    "        try:\n",
    "            experience_req = browser.find_element(By.XPATH, \"//*[@id='floating-header']/div[1]/div/span[2]\").text\n",
    "        except:\n",
    "            experience_req = ''\n",
    "        try:\n",
    "            emp_overall_rating = browser.find_element(By.XPATH, '//*[@id=\"employer-profile\"]/div[2]/div/div/div[1]/div[4]/div/div[1]/div[2]/span[2]').text\n",
    "        except:\n",
    "            emp_overall_rating = ''\n",
    "        try:\n",
    "            emp_wl_bal_rating = browser.find_element(By.XPATH, '//*[@id=\"employer-profile\"]/div[2]/div/div/div[1]/div[4]/div/div[2]/div[2]/span[2]').text\n",
    "        except:\n",
    "            emp_wl_bal_rating = ''\n",
    "        try:\n",
    "            emp_salary_n_benefits_rating = browser.find_element(By.XPATH, '//*[@id=\"employer-profile\"]/div[2]/div/div/div[1]/div[4]/div/div[3]/div[2]/span[2]').text\n",
    "        except:\n",
    "            emp_salary_n_benefits_rating = ''\n",
    "        try:\n",
    "            emp_comp_culture_rating = browser.find_element(By.XPATH, '//*[@id=\"employer-profile\"]/div[2]/div/div/div[1]/div[4]/div/div[4]/div[2]/span[2]').text\n",
    "        except:\n",
    "            emp_comp_culture_rating = ''\n",
    "        try:\n",
    "            emp_career_growth_rating = browser.find_element(By.XPATH, '//*[@id=\"employer-profile\"]/div[2]/div/div/div[1]/div[4]/div/div[5]/div[2]/span[2]').text\n",
    "        except:\n",
    "            emp_career_growth_rating = ''\n",
    "        try:\n",
    "            emp_diversity_n_inclusion_rating = browser.find_element(By.XPATH, '//*[@id=\"employer-profile\"]/div[2]/div/div/div[1]/div[4]/div/div[6]/div[2]/span[2]').text\n",
    "        except:\n",
    "            emp_diversity_n_inclusion_rating = ''\n",
    "        try:\n",
    "            emp_likely_to_recomm_rating = browser.find_element(By.XPATH, '//*[@id=\"employer-profile\"]/div[2]/div/div/div[1]/div[4]/div/div[7]/div[2]/span[2]').text\n",
    "        except:\n",
    "            emp_likely_to_recomm_rating = ''\n",
    "\n",
    "        job_details = {'designation':designation, 'company_name':company_name,'location':location, 'estab_year':estab_year,\n",
    "                       'employees_count':employees_count, 'job_description': job_description, 'skills':skills, 'hr_name':hr_name,\n",
    "                      'experience_req':experience_req, 'emp_overall_rating':emp_overall_rating,'emp_wl_bal_rating':emp_wl_bal_rating,\n",
    "                      'emp_salary_n_benefits_rating':emp_salary_n_benefits_rating, 'emp_comp_culture_rating':emp_comp_culture_rating,\n",
    "                      'emp_career_growth_rating':emp_career_growth_rating,'emp_diversity_n_inclusion_rating':emp_diversity_n_inclusion_rating,\n",
    "                      'emp_likely_to_recomm_rating':emp_likely_to_recomm_rating}\n",
    "\n",
    "        Job_list.append(job_details)\n",
    "        browser.close()\n",
    "        browser.switch_to.window(parent)\n",
    "        \n",
    "    next_botton = browser.find_element_by_xpath('//*[@id=\"job-function-page\"]/div[2]/div/div[1]/div[1]/div[11]/li[12]')\n",
    "    next_botton.click()\n",
    "    time.sleep(4)"
   ]
  },
  {
   "cell_type": "code",
   "execution_count": null,
   "id": "c0afcf07",
   "metadata": {},
   "outputs": [],
   "source": []
  },
  {
   "cell_type": "code",
   "execution_count": null,
   "id": "ac7471ec",
   "metadata": {},
   "outputs": [],
   "source": [
    "df1 = pd.DataFrame(Job_list)\n",
    "df1"
   ]
  },
  {
   "cell_type": "code",
   "execution_count": null,
   "id": "2ba9d1da",
   "metadata": {},
   "outputs": [],
   "source": [
    "df1.to_csv(\"Job_details500.csv\")"
   ]
  }
 ],
 "metadata": {
  "kernelspec": {
   "display_name": "Python 3 (ipykernel)",
   "language": "python",
   "name": "python3"
  },
  "language_info": {
   "codemirror_mode": {
    "name": "ipython",
    "version": 3
   },
   "file_extension": ".py",
   "mimetype": "text/x-python",
   "name": "python",
   "nbconvert_exporter": "python",
   "pygments_lexer": "ipython3",
   "version": "3.9.13"
  }
 },
 "nbformat": 4,
 "nbformat_minor": 5
}
